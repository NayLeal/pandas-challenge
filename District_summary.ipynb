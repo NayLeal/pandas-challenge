{
 "cells": [
  {
   "cell_type": "code",
   "execution_count": 34,
   "id": "761823aa-61f0-4648-be21-9e9e3cabbce0",
   "metadata": {},
   "outputs": [],
   "source": [
    "import pandas as pd\n",
    "\n",
    "# Cargar los datos desde un archivo CSV\n",
    "df = pd.read_csv(r'C:\\Users\\Chelsea\\Documents\\Cursos\\DataAnalytics\\Contenido\\Challenges\\4\\Starter_Code\\PyCitySchools\\Resources\\schools_complete.csv')\n",
    "df = pd.read_csv(r'C:\\Users\\Chelsea\\Documents\\Cursos\\DataAnalytics\\Contenido\\Challenges\\4\\Starter_Code\\PyCitySchools\\Resources\\students_complete.csv')"
   ]
  },
  {
   "cell_type": "code",
   "execution_count": 40,
   "id": "e11b229e-b965-41dd-a7b0-11cef6907097",
   "metadata": {},
   "outputs": [],
   "source": [
    "# Total de escuelas únicas\n",
    "total_schools = df['school_name'].nunique()\n",
    "\n",
    "# Total de estudiantes\n",
    "total_students = df['student_name'].count()\n",
    "\n",
    "# Presupuesto total\n",
    "#total_budget = df['budget'].unique().sum()\n",
    "\n",
    "# Puntaje promedio de matemáticas\n",
    "avg_math_score = df['math_score'].mean()\n",
    "\n",
    "# Puntaje promedio de lectura\n",
    "avg_reading_score = df['reading_score'].mean()\n",
    "\n",
    "# % de estudiantes que aprobaron matemáticas (suponiendo que 70 es el puntaje mínimo para aprobar)\n",
    "passing_math = df[df['math_score'] >= 70]['student_name'].count() / total_students * 100\n",
    "\n",
    "# % de estudiantes que aprobaron lectura\n",
    "passing_reading = df[df['reading_score'] >= 70]['student_name'].count() / total_students * 100\n",
    "\n",
    "# % de estudiantes que aprobaron ambas materias\n",
    "overall_passing = df[(df['math_score'] >= 70) & (df['reading_score'] >= 70)]['student_name'].count() / total_students * 100\n"
   ]
  },
  {
   "cell_type": "code",
   "execution_count": 42,
   "id": "80da54fc-7678-4cf8-9e54-6d809466a9f4",
   "metadata": {},
   "outputs": [
    {
     "name": "stdout",
     "output_type": "stream",
     "text": [
      "   Total Schools  Total Students  Average Math Score  Average Reading Score  \\\n",
      "0             15           39170           78.985371               81.87784   \n",
      "\n",
      "   % Passing Math  % Passing Reading  % Overall Passing  \n",
      "0       74.980853          85.805463          65.172326  \n"
     ]
    }
   ],
   "source": [
    "# Crear un DataFrame de resumen\n",
    "summary_df = pd.DataFrame({\n",
    "    'Total Schools': [total_schools],\n",
    "    'Total Students': [total_students],\n",
    "   # 'Total Budget': [total_budget],\n",
    "    'Average Math Score': [avg_math_score],\n",
    "    'Average Reading Score': [avg_reading_score],\n",
    "    '% Passing Math': [passing_math],\n",
    "    '% Passing Reading': [passing_reading],\n",
    "    '% Overall Passing': [overall_passing]\n",
    "})\n",
    "\n",
    "# Mostrar el DataFrame de resumen\n",
    "print(summary_df)\n"
   ]
  },
  {
   "cell_type": "code",
   "execution_count": null,
   "id": "c1b9411d-2ab7-4aaf-b460-e6786e0fcdeb",
   "metadata": {},
   "outputs": [],
   "source": []
  }
 ],
 "metadata": {
  "kernelspec": {
   "display_name": "Python 3 (ipykernel)",
   "language": "python",
   "name": "python3"
  },
  "language_info": {
   "codemirror_mode": {
    "name": "ipython",
    "version": 3
   },
   "file_extension": ".py",
   "mimetype": "text/x-python",
   "name": "python",
   "nbconvert_exporter": "python",
   "pygments_lexer": "ipython3",
   "version": "3.11.7"
  }
 },
 "nbformat": 4,
 "nbformat_minor": 5
}
