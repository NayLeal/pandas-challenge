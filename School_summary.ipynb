{
 "cells": [
  {
   "cell_type": "code",
   "execution_count": 6,
   "id": "2e893f0e-930a-4519-b97c-114a59ea7c23",
   "metadata": {},
   "outputs": [],
   "source": [
    "import pandas as pd\n",
    "\n",
    "# Cargar los datos desde un archivo CSV\n",
    "df = pd.read_csv(r'C:\\Users\\Chelsea\\Documents\\Cursos\\DataAnalytics\\Contenido\\Challenges\\4\\Starter_Code\\PyCitySchools\\Resources\\schools_complete.csv')\n",
    "df = pd.read_csv(r'C:\\Users\\Chelsea\\Documents\\Cursos\\DataAnalytics\\Contenido\\Challenges\\4\\Starter_Code\\PyCitySchools\\Resources\\students_complete.csv')\n"
   ]
  },
  {
   "cell_type": "code",
   "execution_count": 14,
   "id": "27ba7c40-c380-47fd-aa6a-aa07a81a2e74",
   "metadata": {},
   "outputs": [],
   "source": [
    "# Agrupar los datos por escuela\n",
    "school_group = df.groupby('school_name')\n",
    "\n",
    "# Calcular las métricas solicitadas\n",
    "school_summary = pd.DataFrame({\n",
    "    'School Name': school_group['school_name'].first(),\n",
    "    'Total Students': school_group['student_name'].count(),\n",
    "   # 'Total School Budget': school_group['budget'].first(),\n",
    "   # 'Per Student Budget': school_group['budget'].first() / school_group['student_name'].count(),\n",
    "    'Average Math Score': school_group['math_score'].mean(),\n",
    "    'Average Reading Score': school_group['reading_score'].mean(),\n",
    "    '% Passing Math': school_group.apply(lambda x: (x['math_score'] >= 70).mean() * 100),\n",
    "    '% Passing Reading': school_group.apply(lambda x: (x['reading_score'] >= 70).mean() * 100),\n",
    "    '% Overall Passing': school_group.apply(lambda x: ((x['math_score'] >= 70) & (x['reading_score'] >= 70)).mean() * 100)\n",
    "})\n"
   ]
  },
  {
   "cell_type": "code",
   "execution_count": 16,
   "id": "7e3897bc-5b0a-4cd3-ab8d-bc6c2f18f391",
   "metadata": {},
   "outputs": [
    {
     "name": "stdout",
     "output_type": "stream",
     "text": [
      "                                 School Name  Total Students  \\\n",
      "school_name                                                    \n",
      "Bailey High School        Bailey High School            4976   \n",
      "Cabrera High School      Cabrera High School            1858   \n",
      "Figueroa High School    Figueroa High School            2949   \n",
      "Ford High School            Ford High School            2739   \n",
      "Griffin High School      Griffin High School            1468   \n",
      "Hernandez High School  Hernandez High School            4635   \n",
      "Holden High School        Holden High School             427   \n",
      "Huang High School          Huang High School            2917   \n",
      "Johnson High School      Johnson High School            4761   \n",
      "Pena High School            Pena High School             962   \n",
      "Rodriguez High School  Rodriguez High School            3999   \n",
      "Shelton High School      Shelton High School            1761   \n",
      "Thomas High School        Thomas High School            1635   \n",
      "Wilson High School        Wilson High School            2283   \n",
      "Wright High School        Wright High School            1800   \n",
      "\n",
      "                       Average Math Score  Average Reading Score  \\\n",
      "school_name                                                        \n",
      "Bailey High School              77.048432              81.033963   \n",
      "Cabrera High School             83.061895              83.975780   \n",
      "Figueroa High School            76.711767              81.158020   \n",
      "Ford High School                77.102592              80.746258   \n",
      "Griffin High School             83.351499              83.816757   \n",
      "Hernandez High School           77.289752              80.934412   \n",
      "Holden High School              83.803279              83.814988   \n",
      "Huang High School               76.629414              81.182722   \n",
      "Johnson High School             77.072464              80.966394   \n",
      "Pena High School                83.839917              84.044699   \n",
      "Rodriguez High School           76.842711              80.744686   \n",
      "Shelton High School             83.359455              83.725724   \n",
      "Thomas High School              83.418349              83.848930   \n",
      "Wilson High School              83.274201              83.989488   \n",
      "Wright High School              83.682222              83.955000   \n",
      "\n",
      "                       % Passing Math  % Passing Reading  % Overall Passing  \n",
      "school_name                                                                  \n",
      "Bailey High School          66.680064          81.933280          54.642283  \n",
      "Cabrera High School         94.133477          97.039828          91.334769  \n",
      "Figueroa High School        65.988471          80.739234          53.204476  \n",
      "Ford High School            68.309602          79.299014          54.289887  \n",
      "Griffin High School         93.392371          97.138965          90.599455  \n",
      "Hernandez High School       66.752967          80.862999          53.527508  \n",
      "Holden High School          92.505855          96.252927          89.227166  \n",
      "Huang High School           65.683922          81.316421          53.513884  \n",
      "Johnson High School         66.057551          81.222432          53.539172  \n",
      "Pena High School            94.594595          95.945946          90.540541  \n",
      "Rodriguez High School       66.366592          80.220055          52.988247  \n",
      "Shelton High School         93.867121          95.854628          89.892107  \n",
      "Thomas High School          93.272171          97.308869          90.948012  \n",
      "Wilson High School          93.867718          96.539641          90.582567  \n",
      "Wright High School          93.333333          96.611111          90.333333  \n"
     ]
    }
   ],
   "source": [
    "# Mostrar el resumen por escuela\n",
    "print(school_summary)\n"
   ]
  },
  {
   "cell_type": "code",
   "execution_count": null,
   "id": "8c036fbf-eba1-4392-a00d-2479a14a160b",
   "metadata": {},
   "outputs": [],
   "source": []
  },
  {
   "cell_type": "code",
   "execution_count": null,
   "id": "c84d5e9d-ef10-4c95-a55e-8696e92b4ff2",
   "metadata": {},
   "outputs": [],
   "source": []
  }
 ],
 "metadata": {
  "kernelspec": {
   "display_name": "Python 3 (ipykernel)",
   "language": "python",
   "name": "python3"
  },
  "language_info": {
   "codemirror_mode": {
    "name": "ipython",
    "version": 3
   },
   "file_extension": ".py",
   "mimetype": "text/x-python",
   "name": "python",
   "nbconvert_exporter": "python",
   "pygments_lexer": "ipython3",
   "version": "3.11.7"
  }
 },
 "nbformat": 4,
 "nbformat_minor": 5
}
