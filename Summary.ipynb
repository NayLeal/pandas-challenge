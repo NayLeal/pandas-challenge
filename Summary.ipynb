{
 "cells": [
  {
   "cell_type": "code",
   "execution_count": 11,
   "id": "749fae84-c611-4cdf-8333-94849c1b34ed",
   "metadata": {},
   "outputs": [],
   "source": [
    "import pandas as pd\n",
    "\n",
    "# Cargar los datos desde un archivo CSV\n",
    "df = pd.read_csv(r'C:\\Users\\Chelsea\\Documents\\Cursos\\DataAnalytics\\Contenido\\Challenges\\4\\Starter_Code\\PyCitySchools\\Resources\\schools_complete.csv')\n",
    "df = pd.read_csv(r'C:\\Users\\Chelsea\\Documents\\Cursos\\DataAnalytics\\Contenido\\Challenges\\4\\Starter_Code\\PyCitySchools\\Resources\\students_complete.csv')"
   ]
  },
  {
   "cell_type": "code",
   "execution_count": 13,
   "id": "520e7256-9059-43cb-a44c-40611b45cfc2",
   "metadata": {},
   "outputs": [],
   "source": [
    "# Total de escuelas únicas\n",
    "final_schools = df['school_name'].nunique()\n",
    "\n",
    "# Total de estudiantes\n",
    "final_students = df['student_name'].count()\n",
    "\n",
    "# Presupuesto total\n",
    "#total_budget = df['budget'].unique().sum()\n",
    "\n",
    "# Puntaje promedio de matemáticas\n",
    "avg_math_score = df['math_score'].mean()\n",
    "\n",
    "# Puntaje promedio de lectura\n",
    "avg_reading_score = df['reading_score'].mean()\n",
    "\n",
    "# % de estudiantes que aprobaron matemáticas (suponiendo que 70 es el puntaje mínimo para aprobar)\n",
    "passing_math = df[df['math_score'] >= 70]['student_name'].count() / total_students * 100\n",
    "\n",
    "# % de estudiantes que aprobaron lectura\n",
    "passing_reading = df[df['reading_score'] >= 70]['student_name'].count() / total_students * 100\n",
    "\n",
    "# % de estudiantes que aprobaron ambas materias\n",
    "overall_passing = df[(df['math_score'] >= 70) & (df['reading_score'] >= 70)]['student_name'].count() / total_students * 100"
   ]
  },
  {
   "cell_type": "code",
   "execution_count": 15,
   "id": "17e48bcd-19d6-40d0-97a1-b88d4eebed33",
   "metadata": {},
   "outputs": [
    {
     "name": "stdout",
     "output_type": "stream",
     "text": [
      "   Final Schools  Final Students  Average Math Score  Average Reading Score  \\\n",
      "0             15           39170           78.985371               81.87784   \n",
      "\n",
      "   % Passing Math  % Passing Reading  % Overall Passing  \n",
      "0       74.980853          85.805463          65.172326  \n"
     ]
    }
   ],
   "source": [
    "# Crear un DataFrame de resumen\n",
    "summary_df = pd.DataFrame({\n",
    "    'Final Schools': [final_schools],\n",
    "    'Final Students': [final_students],\n",
    "   # 'Total Budget': [total_budget],\n",
    "    'Average Math Score': [avg_math_score],\n",
    "    'Average Reading Score': [avg_reading_score],\n",
    "    '% Passing Math': [passing_math],\n",
    "    '% Passing Reading': [passing_reading],\n",
    "    '% Overall Passing': [overall_passing]\n",
    "})\n",
    "\n",
    "# Mostrar el DataFrame de resumen\n",
    "print(summary_df)"
   ]
  },
  {
   "cell_type": "code",
   "execution_count": 20,
   "id": "d24dd56d-4add-49ff-80e8-44cf30776871",
   "metadata": {},
   "outputs": [],
   "source": [
    "import pandas as pd\n",
    "\n",
    "# Cargar los datos desde un archivo CSV\n",
    "df = pd.read_csv(r'C:\\Users\\Chelsea\\Documents\\Cursos\\DataAnalytics\\Contenido\\Challenges\\4\\Starter_Code\\PyCitySchools\\Resources\\schools_complete.csv')\n",
    "df = pd.read_csv(r'C:\\Users\\Chelsea\\Documents\\Cursos\\DataAnalytics\\Contenido\\Challenges\\4\\Starter_Code\\PyCitySchools\\Resources\\students_complete.csv')"
   ]
  },
  {
   "cell_type": "code",
   "execution_count": 23,
   "id": "7475084a-3b1e-4ca6-8f98-7af04796afe7",
   "metadata": {},
   "outputs": [],
   "source": [
    "# Agrupar los datos por escuela\n",
    "school_group = df.groupby('school_name')\n",
    "\n",
    "# Calcular las métricas solicitadas\n",
    "school_summary = pd.DataFrame({\n",
    "    'School Name': school_group['school_name'].first(),\n",
    "    'Total Students': school_group['student_name'].count(),\n",
    "   # 'Total School Budget': school_group['budget'].first(),\n",
    "   # 'Per Student Budget': school_group['budget'].first() / school_group['student_name'].count(),\n",
    "    'Average Math Score': school_group['math_score'].mean(),\n",
    "    'Average Reading Score': school_group['reading_score'].mean(),\n",
    "    '% Passing Math': school_group.apply(lambda x: (x['math_score'] >= 70).mean() * 100),\n",
    "    '% Passing Reading': school_group.apply(lambda x: (x['reading_score'] >= 70).mean() * 100),\n",
    "    '% Overall Passing': school_group.apply(lambda x: ((x['math_score'] >= 70) & (x['reading_score'] >= 70)).mean() * 100)\n",
    "})"
   ]
  },
  {
   "cell_type": "code",
   "execution_count": 26,
   "id": "9b2ab0da-b01c-4f85-9ae6-9c06cac8f3fa",
   "metadata": {},
   "outputs": [
    {
     "name": "stdout",
     "output_type": "stream",
     "text": [
      "                                 School Name  Total Students  \\\n",
      "school_name                                                    \n",
      "Bailey High School        Bailey High School            4976   \n",
      "Cabrera High School      Cabrera High School            1858   \n",
      "Figueroa High School    Figueroa High School            2949   \n",
      "Ford High School            Ford High School            2739   \n",
      "Griffin High School      Griffin High School            1468   \n",
      "Hernandez High School  Hernandez High School            4635   \n",
      "Holden High School        Holden High School             427   \n",
      "Huang High School          Huang High School            2917   \n",
      "Johnson High School      Johnson High School            4761   \n",
      "Pena High School            Pena High School             962   \n",
      "Rodriguez High School  Rodriguez High School            3999   \n",
      "Shelton High School      Shelton High School            1761   \n",
      "Thomas High School        Thomas High School            1635   \n",
      "Wilson High School        Wilson High School            2283   \n",
      "Wright High School        Wright High School            1800   \n",
      "\n",
      "                       Average Math Score  Average Reading Score  \\\n",
      "school_name                                                        \n",
      "Bailey High School              77.048432              81.033963   \n",
      "Cabrera High School             83.061895              83.975780   \n",
      "Figueroa High School            76.711767              81.158020   \n",
      "Ford High School                77.102592              80.746258   \n",
      "Griffin High School             83.351499              83.816757   \n",
      "Hernandez High School           77.289752              80.934412   \n",
      "Holden High School              83.803279              83.814988   \n",
      "Huang High School               76.629414              81.182722   \n",
      "Johnson High School             77.072464              80.966394   \n",
      "Pena High School                83.839917              84.044699   \n",
      "Rodriguez High School           76.842711              80.744686   \n",
      "Shelton High School             83.359455              83.725724   \n",
      "Thomas High School              83.418349              83.848930   \n",
      "Wilson High School              83.274201              83.989488   \n",
      "Wright High School              83.682222              83.955000   \n",
      "\n",
      "                       % Passing Math  % Passing Reading  % Overall Passing  \n",
      "school_name                                                                  \n",
      "Bailey High School          66.680064          81.933280          54.642283  \n",
      "Cabrera High School         94.133477          97.039828          91.334769  \n",
      "Figueroa High School        65.988471          80.739234          53.204476  \n",
      "Ford High School            68.309602          79.299014          54.289887  \n",
      "Griffin High School         93.392371          97.138965          90.599455  \n",
      "Hernandez High School       66.752967          80.862999          53.527508  \n",
      "Holden High School          92.505855          96.252927          89.227166  \n",
      "Huang High School           65.683922          81.316421          53.513884  \n",
      "Johnson High School         66.057551          81.222432          53.539172  \n",
      "Pena High School            94.594595          95.945946          90.540541  \n",
      "Rodriguez High School       66.366592          80.220055          52.988247  \n",
      "Shelton High School         93.867121          95.854628          89.892107  \n",
      "Thomas High School          93.272171          97.308869          90.948012  \n",
      "Wilson High School          93.867718          96.539641          90.582567  \n",
      "Wright High School          93.333333          96.611111          90.333333  \n"
     ]
    }
   ],
   "source": [
    "# Mostrar el resumen por escuela\n",
    "print(school_summary)"
   ]
  },
  {
   "cell_type": "code",
   "execution_count": 29,
   "id": "9f2c6251-2ed5-439f-9f27-75d2ddd06100",
   "metadata": {},
   "outputs": [
    {
     "name": "stdout",
     "output_type": "stream",
     "text": [
      "                             School Name  Total Students  Average Math Score  \\\n",
      "school_name                                                                    \n",
      "Cabrera High School  Cabrera High School            1858           83.061895   \n",
      "Thomas High School    Thomas High School            1635           83.418349   \n",
      "Griffin High School  Griffin High School            1468           83.351499   \n",
      "Wilson High School    Wilson High School            2283           83.274201   \n",
      "Pena High School        Pena High School             962           83.839917   \n",
      "\n",
      "                     Average Reading Score  % Passing Math  % Passing Reading  \\\n",
      "school_name                                                                     \n",
      "Cabrera High School              83.975780       94.133477          97.039828   \n",
      "Thomas High School               83.848930       93.272171          97.308869   \n",
      "Griffin High School              83.816757       93.392371          97.138965   \n",
      "Wilson High School               83.989488       93.867718          96.539641   \n",
      "Pena High School                 84.044699       94.594595          95.945946   \n",
      "\n",
      "                     % Overall Passing  \n",
      "school_name                             \n",
      "Cabrera High School          91.334769  \n",
      "Thomas High School           90.948012  \n",
      "Griffin High School          90.599455  \n",
      "Wilson High School           90.582567  \n",
      "Pena High School             90.540541  \n"
     ]
    }
   ],
   "source": [
    "# Sort by % Overall Passing in descending order\n",
    "top_schools = school_summary.sort_values(by='% Overall Passing', ascending=False).head(5)\n",
    "\n",
    "# Display the top 5 schools\n",
    "print(top_schools)\n"
   ]
  },
  {
   "cell_type": "code",
   "execution_count": 31,
   "id": "f7d522b8-cfd4-4220-ba56-a90f4a260dbe",
   "metadata": {},
   "outputs": [
    {
     "name": "stdout",
     "output_type": "stream",
     "text": [
      "                                 School Name  Total Students  \\\n",
      "school_name                                                    \n",
      "Rodriguez High School  Rodriguez High School            3999   \n",
      "Figueroa High School    Figueroa High School            2949   \n",
      "Huang High School          Huang High School            2917   \n",
      "Hernandez High School  Hernandez High School            4635   \n",
      "Johnson High School      Johnson High School            4761   \n",
      "\n",
      "                       Average Math Score  Average Reading Score  \\\n",
      "school_name                                                        \n",
      "Rodriguez High School           76.842711              80.744686   \n",
      "Figueroa High School            76.711767              81.158020   \n",
      "Huang High School               76.629414              81.182722   \n",
      "Hernandez High School           77.289752              80.934412   \n",
      "Johnson High School             77.072464              80.966394   \n",
      "\n",
      "                       % Passing Math  % Passing Reading  % Overall Passing  \n",
      "school_name                                                                  \n",
      "Rodriguez High School       66.366592          80.220055          52.988247  \n",
      "Figueroa High School        65.988471          80.739234          53.204476  \n",
      "Huang High School           65.683922          81.316421          53.513884  \n",
      "Hernandez High School       66.752967          80.862999          53.527508  \n",
      "Johnson High School         66.057551          81.222432          53.539172  \n"
     ]
    }
   ],
   "source": [
    "# Sort by % Overall Passing in ascending order\n",
    "bottom_schools = school_summary.sort_values(by='% Overall Passing', ascending=True).head(5)\n",
    "\n",
    "# Display the bottom 5 schools\n",
    "print(bottom_schools)\n"
   ]
  },
  {
   "cell_type": "code",
   "execution_count": 33,
   "id": "acbe3545-563e-4059-8ecd-c98c648bc299",
   "metadata": {},
   "outputs": [
    {
     "name": "stdout",
     "output_type": "stream",
     "text": [
      "grade                       10th       11th       12th        9th\n",
      "school_name                                                      \n",
      "Bailey High School     76.996772  77.515588  76.492218  77.083676\n",
      "Cabrera High School    83.154506  82.765560  83.277487  83.094697\n",
      "Figueroa High School   76.539974  76.884344  77.151369  76.403037\n",
      "Ford High School       77.672316  76.918058  76.179963  77.361345\n",
      "Griffin High School    84.229064  83.842105  83.356164  82.044010\n",
      "Hernandez High School  77.337408  77.136029  77.186567  77.438495\n",
      "Holden High School     83.429825  85.000000  82.855422  83.787402\n",
      "Huang High School      75.908735  76.446602  77.225641  77.027251\n",
      "Johnson High School    76.691117  77.491653  76.863248  77.187857\n",
      "Pena High School       83.372000  84.328125  84.121547  83.625455\n",
      "Rodriguez High School  76.612500  76.395626  77.690748  76.859966\n",
      "Shelton High School    82.917411  83.383495  83.778976  83.420755\n",
      "Thomas High School     83.087886  83.498795  83.497041  83.590022\n",
      "Wilson High School     83.724422  83.195326  83.035794  83.085578\n",
      "Wright High School     84.010288  83.836782  83.644986  83.264706\n"
     ]
    }
   ],
   "source": [
    "# Group by school and grade, then calculate the average math score\n",
    "math_scores_by_grade = df.groupby(['school_name', 'grade'])['math_score'].mean().unstack()\n",
    "\n",
    "# Display the DataFrame\n",
    "print(math_scores_by_grade)\n"
   ]
  },
  {
   "cell_type": "code",
   "execution_count": 35,
   "id": "c16bff32-0936-4161-bb9e-6047193eae8a",
   "metadata": {},
   "outputs": [
    {
     "name": "stdout",
     "output_type": "stream",
     "text": [
      "grade                       10th       11th       12th        9th\n",
      "school_name                                                      \n",
      "Bailey High School     80.907183  80.945643  80.912451  81.303155\n",
      "Cabrera High School    84.253219  83.788382  84.287958  83.676136\n",
      "Figueroa High School   81.408912  80.640339  81.384863  81.198598\n",
      "Ford High School       81.262712  80.403642  80.662338  80.632653\n",
      "Griffin High School    83.706897  84.288089  84.013699  83.369193\n",
      "Hernandez High School  80.660147  81.396140  80.857143  80.866860\n",
      "Holden High School     83.324561  83.815534  84.698795  83.677165\n",
      "Huang High School      81.512386  81.417476  80.305983  81.290284\n",
      "Johnson High School    80.773431  80.616027  81.227564  81.260714\n",
      "Pena High School       83.612000  84.335938  84.591160  83.807273\n",
      "Rodriguez High School  80.629808  80.864811  80.376426  80.993127\n",
      "Shelton High School    83.441964  84.373786  82.781671  84.122642\n",
      "Thomas High School     84.254157  83.585542  83.831361  83.728850\n",
      "Wilson High School     84.021452  83.764608  84.317673  83.939778\n",
      "Wright High School     83.812757  84.156322  84.073171  83.833333\n"
     ]
    }
   ],
   "source": [
    "# Group by school and grade, then calculate the average reading score\n",
    "reading_scores_by_grade = df.groupby(['school_name', 'grade'])['reading_score'].mean().unstack()\n",
    "\n",
    "# Display the DataFrame\n",
    "print(reading_scores_by_grade)\n"
   ]
  },
  {
   "cell_type": "code",
   "execution_count": 69,
   "id": "e9479f8a-52f3-4683-b4fa-ae8a1ad34cad",
   "metadata": {},
   "outputs": [
    {
     "name": "stdout",
     "output_type": "stream",
     "text": [
      "                    Average Math Score  Average Reading Score  % Passing Math  \\\n",
      "School Size                                                                     \n",
      "Small (<1000)                83.821598              83.929843       93.550225   \n",
      "Medium (1000-2000)           83.374684              83.864438       93.599695   \n",
      "Large (2000-5000)            77.746417              81.344493       69.963361   \n",
      "\n",
      "                    % Passing Reading  % Overall Passing  \n",
      "School Size                                               \n",
      "Small (<1000)               96.099437          89.883853  \n",
      "Medium (1000-2000)          96.790680          90.621535  \n",
      "Large (2000-5000)           82.766634          58.286003  \n"
     ]
    },
    {
     "name": "stderr",
     "output_type": "stream",
     "text": [
      "C:\\Users\\Chelsea\\AppData\\Local\\Temp\\ipykernel_3348\\3831179619.py:12: FutureWarning: The default of observed=False is deprecated and will be changed to True in a future version of pandas. Pass observed=False to retain current behavior or observed=True to adopt the future default and silence this warning.\n",
      "  size_math_scores = school_summary.groupby(\"School Size\")[\"Average Math Score\"].mean()\n",
      "C:\\Users\\Chelsea\\AppData\\Local\\Temp\\ipykernel_3348\\3831179619.py:13: FutureWarning: The default of observed=False is deprecated and will be changed to True in a future version of pandas. Pass observed=False to retain current behavior or observed=True to adopt the future default and silence this warning.\n",
      "  size_reading_scores = school_summary.groupby(\"School Size\")[\"Average Reading Score\"].mean()\n",
      "C:\\Users\\Chelsea\\AppData\\Local\\Temp\\ipykernel_3348\\3831179619.py:14: FutureWarning: The default of observed=False is deprecated and will be changed to True in a future version of pandas. Pass observed=False to retain current behavior or observed=True to adopt the future default and silence this warning.\n",
      "  size_passing_math = school_summary.groupby(\"School Size\")[\"% Passing Math\"].mean()\n",
      "C:\\Users\\Chelsea\\AppData\\Local\\Temp\\ipykernel_3348\\3831179619.py:15: FutureWarning: The default of observed=False is deprecated and will be changed to True in a future version of pandas. Pass observed=False to retain current behavior or observed=True to adopt the future default and silence this warning.\n",
      "  size_passing_reading = school_summary.groupby(\"School Size\")[\"% Passing Reading\"].mean()\n",
      "C:\\Users\\Chelsea\\AppData\\Local\\Temp\\ipykernel_3348\\3831179619.py:16: FutureWarning: The default of observed=False is deprecated and will be changed to True in a future version of pandas. Pass observed=False to retain current behavior or observed=True to adopt the future default and silence this warning.\n",
      "  size_overall_passing = school_summary.groupby(\"School Size\")[\"% Overall Passing\"].mean()\n"
     ]
    }
   ],
   "source": [
    "# Define spending bins and labels\n",
    "\n",
    "import pandas as pd\n",
    "\n",
    "size_bins = [0, 1000, 2000, 5000]\n",
    "labels = [\"Small (<1000)\", \"Medium (1000-2000)\", \"Large (2000-5000)\"]\n",
    "\n",
    "# Value 'school_summary' contains 'Total Students' column\n",
    "school_summary['School Size'] = pd.cut(school_summary['Total Students'], bins=size_bins, labels=labels)\n",
    "\n",
    "# Group by 'School Size' and calculate the mean for each metric\n",
    "size_math_scores = school_summary.groupby(\"School Size\")[\"Average Math Score\"].mean()\n",
    "size_reading_scores = school_summary.groupby(\"School Size\")[\"Average Reading Score\"].mean()\n",
    "size_passing_math = school_summary.groupby(\"School Size\")[\"% Passing Math\"].mean()\n",
    "size_passing_reading = school_summary.groupby(\"School Size\")[\"% Passing Reading\"].mean()\n",
    "size_overall_passing = school_summary.groupby(\"School Size\")[\"% Overall Passing\"].mean()\n",
    "\n",
    "# Combine the results into a summary DataFrame\n",
    "size_summary = pd.DataFrame({\n",
    "    \"Average Math Score\": size_math_scores,\n",
    "    \"Average Reading Score\": size_reading_scores,\n",
    "    \"% Passing Math\": size_passing_math,\n",
    "    \"% Passing Reading\": size_passing_reading,\n",
    "    \"% Overall Passing\": size_overall_passing\n",
    "})\n",
    "\n",
    "# Display the DataFrame\n",
    "print(size_summary)\n",
    "\n"
   ]
  },
  {
   "cell_type": "code",
   "execution_count": 91,
   "id": "f664e4e3-8488-42e5-afb4-6a83e6ca0853",
   "metadata": {},
   "outputs": [
    {
     "name": "stdout",
     "output_type": "stream",
     "text": [
      "                    Average Math Score  Average Reading Score  % Passing Math  \\\n",
      "School Type                                                                     \n",
      "Small (<1000)                      NaN                    NaN             NaN   \n",
      "Medium (1000-2000)                 NaN                    NaN             NaN   \n",
      "Large (2000-5000)                  NaN                    NaN             NaN   \n",
      "\n",
      "                    % Passing Reading  % Overall Passing  \n",
      "School Type                                               \n",
      "Small (<1000)                     NaN                NaN  \n",
      "Medium (1000-2000)                NaN                NaN  \n",
      "Large (2000-5000)                 NaN                NaN  \n"
     ]
    },
    {
     "name": "stderr",
     "output_type": "stream",
     "text": [
      "C:\\Users\\Chelsea\\AppData\\Local\\Temp\\ipykernel_3348\\3523287679.py:14: FutureWarning: The default of observed=False is deprecated and will be changed to True in a future version of pandas. Pass observed=False to retain current behavior or observed=True to adopt the future default and silence this warning.\n",
      "  type_math_scores = per_school_summary.groupby(\"School Type\")[\"Average Math Score\"].mean()\n",
      "C:\\Users\\Chelsea\\AppData\\Local\\Temp\\ipykernel_3348\\3523287679.py:15: FutureWarning: The default of observed=False is deprecated and will be changed to True in a future version of pandas. Pass observed=False to retain current behavior or observed=True to adopt the future default and silence this warning.\n",
      "  type_reading_scores = per_school_summary.groupby(\"School Type\")[\"Average Reading Score\"].mean()\n",
      "C:\\Users\\Chelsea\\AppData\\Local\\Temp\\ipykernel_3348\\3523287679.py:16: FutureWarning: The default of observed=False is deprecated and will be changed to True in a future version of pandas. Pass observed=False to retain current behavior or observed=True to adopt the future default and silence this warning.\n",
      "  type_passing_math = per_school_summary.groupby(\"School Type\")[\"% Passing Math\"].mean()\n",
      "C:\\Users\\Chelsea\\AppData\\Local\\Temp\\ipykernel_3348\\3523287679.py:17: FutureWarning: The default of observed=False is deprecated and will be changed to True in a future version of pandas. Pass observed=False to retain current behavior or observed=True to adopt the future default and silence this warning.\n",
      "  type_passing_reading = per_school_summary.groupby(\"School Type\")[\"% Passing Reading\"].mean()\n",
      "C:\\Users\\Chelsea\\AppData\\Local\\Temp\\ipykernel_3348\\3523287679.py:18: FutureWarning: The default of observed=False is deprecated and will be changed to True in a future version of pandas. Pass observed=False to retain current behavior or observed=True to adopt the future default and silence this warning.\n",
      "  type_overall_passing = per_school_summary.groupby(\"School Type\")[\"% Overall Passing\"].mean()\n"
     ]
    }
   ],
   "source": [
    "import pandas as pd\n",
    "per_school_summary = pd.DataFrame({\n",
    "\n",
    "      'Average Math Score': [avg_math_score],\n",
    "    'Average Reading Score': [avg_reading_score],\n",
    "    '% Passing Math': [passing_math],\n",
    "    '% Passing Reading': [passing_reading],\n",
    "    '% Overall Passing': [overall_passing]\n",
    "})\n",
    "\n",
    "per_school_summary['School Type'] = pd.cut(school_summary['Total Students'], bins=size_bins, labels=labels)\n",
    "\n",
    "# Group by 'School Type' and calculate the mean for each metric\n",
    "type_math_scores = per_school_summary.groupby(\"School Type\")[\"Average Math Score\"].mean()\n",
    "type_reading_scores = per_school_summary.groupby(\"School Type\")[\"Average Reading Score\"].mean()\n",
    "type_passing_math = per_school_summary.groupby(\"School Type\")[\"% Passing Math\"].mean()\n",
    "type_passing_reading = per_school_summary.groupby(\"School Type\")[\"% Passing Reading\"].mean()\n",
    "type_overall_passing = per_school_summary.groupby(\"School Type\")[\"% Overall Passing\"].mean()\n",
    "\n",
    "\n",
    "# Combine the results into a new DataFrame called type_summary\n",
    "type_summary = pd.DataFrame({\n",
    "    \"Average Math Score\": type_math_scores,\n",
    "    \"Average Reading Score\": type_reading_scores,\n",
    "    \"% Passing Math\": type_passing_math,\n",
    "    \"% Passing Reading\": type_passing_reading,\n",
    "    \"% Overall Passing\": type_overall_passing\n",
    "})\n",
    "\n",
    "\n",
    "# Display the type_summary DataFrame\n",
    "print(type_summary)\n"
   ]
  },
  {
   "cell_type": "code",
   "execution_count": null,
   "id": "f2b79e35-f504-4456-8f2f-947dbc64b5f1",
   "metadata": {},
   "outputs": [],
   "source": []
  }
 ],
 "metadata": {
  "kernelspec": {
   "display_name": "Python 3 (ipykernel)",
   "language": "python",
   "name": "python3"
  },
  "language_info": {
   "codemirror_mode": {
    "name": "ipython",
    "version": 3
   },
   "file_extension": ".py",
   "mimetype": "text/x-python",
   "name": "python",
   "nbconvert_exporter": "python",
   "pygments_lexer": "ipython3",
   "version": "3.11.7"
  }
 },
 "nbformat": 4,
 "nbformat_minor": 5
}
